{
 "cells": [
  {
   "cell_type": "code",
   "execution_count": 1,
   "id": "60f1da98",
   "metadata": {},
   "outputs": [],
   "source": [
    "# Uploading the packages we'll need\n",
    "\n",
    "import pandas as pd\n",
    "import numpy as np\n",
    "import os\n",
    "import json\n",
    "import cv2\n",
    "\n",
    "import tensorflow as tf\n",
    "from tensorflow import keras\n",
    "from tensorflow.keras.models import Sequential\n",
    "from tensorflow.keras.layers import Conv2D, MaxPooling2D, AveragePooling2D, Flatten, Dense, Dropout, Activation\n",
    "\n",
    "from sklearn.model_selection import train_test_split\n",
    "from sklearn.metrics import confusion_matrix\n",
    "from sklearn.metrics import plot_confusion_matrix\n",
    "\n",
    "\n",
    "import seaborn as sns\n",
    "import matplotlib.pyplot as plt"
   ]
  },
  {
   "cell_type": "code",
   "execution_count": 2,
   "id": "5852709b",
   "metadata": {},
   "outputs": [],
   "source": [
    "# Reading in the json file\n",
    "\n",
    "with open('./ShipDetection/shipsnet.json') as data_file:\n",
    "    dataset = json.load(data_file)"
   ]
  },
  {
   "cell_type": "code",
   "execution_count": 3,
   "id": "172b47ed",
   "metadata": {},
   "outputs": [],
   "source": [
    "# Turning the json information into a numpy array and then assign it as our X and y values\n",
    "\n",
    "X = np.array(dataset['data']).astype('uint8')\n",
    "y = np.array(dataset['labels']).astype('uint8')"
   ]
  },
  {
   "cell_type": "code",
   "execution_count": 4,
   "id": "04020b90",
   "metadata": {},
   "outputs": [
    {
     "data": {
      "text/plain": [
       "0    3000\n",
       "1    1000\n",
       "dtype: int64"
      ]
     },
     "execution_count": 4,
     "metadata": {},
     "output_type": "execute_result"
    }
   ],
   "source": [
    "# Checking the amount of ship and not a ship labels for the images\n",
    "\n",
    "pd.Series(y).value_counts()"
   ]
  },
  {
   "cell_type": "code",
   "execution_count": 5,
   "id": "1cce9078",
   "metadata": {},
   "outputs": [],
   "source": [
    "# Identifying the class names\n",
    "\n",
    "class_names = ['Not A Ship', 'Ship']"
   ]
  },
  {
   "cell_type": "code",
   "execution_count": 6,
   "id": "e882dca0",
   "metadata": {},
   "outputs": [
    {
     "data": {
      "text/plain": [
       "(4000, 3, 80, 80)"
      ]
     },
     "execution_count": 6,
     "metadata": {},
     "output_type": "execute_result"
    }
   ],
   "source": [
    "# Each item in X_reshaped will now be 3 lists, each list will be the RBG values for each pixel for the length and the width \n",
    "# of the image\n",
    "\n",
    "X_reshaped = X.reshape([-1, 3, 80, 80])\n",
    "\n",
    "X_reshaped.shape"
   ]
  },
  {
   "cell_type": "code",
   "execution_count": 7,
   "id": "b9ca7740",
   "metadata": {},
   "outputs": [
    {
     "data": {
      "text/plain": [
       "(4000, 80, 80, 3)"
      ]
     },
     "execution_count": 7,
     "metadata": {},
     "output_type": "execute_result"
    }
   ],
   "source": [
    "# We need to change the order of the dimensions to get the correct format to plot the images \n",
    "\n",
    "X_reshaped = X.reshape([-1, 3, 80, 80]).transpose([0,2,3,1])\n",
    "\n",
    "X_reshaped.shape"
   ]
  },
  {
   "cell_type": "code",
   "execution_count": 8,
   "id": "891a67e4",
   "metadata": {},
   "outputs": [
    {
     "data": {
      "text/plain": [
       "(4000, 2)"
      ]
     },
     "execution_count": 8,
     "metadata": {},
     "output_type": "execute_result"
    }
   ],
   "source": [
    "# Converts the data for y to a binary class matrix\n",
    "\n",
    "y_reshaped = tf.keras.utils.to_categorical(y, num_classes=2)\n",
    "\n",
    "y_reshaped.shape"
   ]
  },
  {
   "cell_type": "code",
   "execution_count": 9,
   "id": "c28ac755",
   "metadata": {},
   "outputs": [],
   "source": [
    "# Normalizing the X values\n",
    "\n",
    "X_reshaped = X_reshaped / 255"
   ]
  },
  {
   "cell_type": "code",
   "execution_count": 10,
   "id": "62e5fec5",
   "metadata": {},
   "outputs": [],
   "source": [
    "# Doing the initial train/test split on the reshaped values\n",
    "\n",
    "X_train_full, X_test, y_train_full, y_test = train_test_split(X_reshaped, y_reshaped, test_size=0.20, random_state=42)\n",
    "\n",
    "# Creating the validation set\n",
    "\n",
    "X_train, X_val, y_train, y_val = train_test_split(X_train_full, y_train_full, test_size=0.25, random_state=42)"
   ]
  },
  {
   "cell_type": "code",
   "execution_count": 11,
   "id": "d1c1ffc0",
   "metadata": {},
   "outputs": [
    {
     "name": "stderr",
     "output_type": "stream",
     "text": [
      "2022-03-11 22:48:53.731660: I tensorflow/core/common_runtime/pluggable_device/pluggable_device_factory.cc:305] Could not identify NUMA node of platform GPU ID 0, defaulting to 0. Your kernel may not have been built with NUMA support.\n",
      "2022-03-11 22:48:53.732606: I tensorflow/core/common_runtime/pluggable_device/pluggable_device_factory.cc:271] Created TensorFlow device (/job:localhost/replica:0/task:0/device:GPU:0 with 0 MB memory) -> physical PluggableDevice (device: 0, name: METAL, pci bus id: <undefined>)\n"
     ]
    },
    {
     "name": "stdout",
     "output_type": "stream",
     "text": [
      "Metal device set to: Apple M1\n"
     ]
    }
   ],
   "source": [
    "# Using a 5x5 kernel and a pooling size of 3x3 at the start of the sequence\n",
    "\n",
    "# Increasing the number of nodes in the first convolution layer \n",
    "\n",
    "# Increasing the pool size in the first pool layer\n",
    "\n",
    "model = Sequential()\n",
    "model.add(Conv2D(64, (5, 5), input_shape=(80, 80, 3), activation='relu'))\n",
    "model.add(MaxPooling2D(pool_size=(3, 3)))\n",
    "model.add(Conv2D(32, (3, 3), input_shape=(80, 80, 3), activation='relu'))\n",
    "model.add(MaxPooling2D(pool_size=(2, 2)))\n",
    "model.add(Flatten())\n",
    "model.add(Dense(100, activation='relu'))\n",
    "model.add(Dense(100, activation='relu'))\n",
    "model.add(Dense(2, activation='softmax'))\n",
    "\n",
    "model.compile(loss='categorical_crossentropy', optimizer='Adam', metrics=['accuracy'])"
   ]
  },
  {
   "cell_type": "code",
   "execution_count": 12,
   "id": "fc4108e2",
   "metadata": {
    "scrolled": true
   },
   "outputs": [
    {
     "name": "stderr",
     "output_type": "stream",
     "text": [
      "2022-03-11 22:49:10.927009: W tensorflow/core/platform/profile_utils/cpu_utils.cc:128] Failed to get CPU frequency: 0 Hz\n"
     ]
    },
    {
     "name": "stdout",
     "output_type": "stream",
     "text": [
      "Epoch 1/70\n"
     ]
    },
    {
     "name": "stderr",
     "output_type": "stream",
     "text": [
      "2022-03-11 22:49:11.293961: I tensorflow/core/grappler/optimizers/custom_graph_optimizer_registry.cc:112] Plugin optimizer for device_type GPU is enabled.\n"
     ]
    },
    {
     "name": "stdout",
     "output_type": "stream",
     "text": [
      "74/75 [============================>.] - ETA: 0s - loss: 0.3580 - accuracy: 0.8514"
     ]
    },
    {
     "name": "stderr",
     "output_type": "stream",
     "text": [
      "2022-03-11 22:49:18.393841: I tensorflow/core/grappler/optimizers/custom_graph_optimizer_registry.cc:112] Plugin optimizer for device_type GPU is enabled.\n"
     ]
    },
    {
     "name": "stdout",
     "output_type": "stream",
     "text": [
      "75/75 [==============================] - 8s 60ms/step - loss: 0.3562 - accuracy: 0.8517 - val_loss: 0.2208 - val_accuracy: 0.9125\n",
      "Epoch 2/70\n",
      "75/75 [==============================] - 4s 58ms/step - loss: 0.2234 - accuracy: 0.9104 - val_loss: 0.1881 - val_accuracy: 0.9237\n",
      "Epoch 3/70\n",
      "75/75 [==============================] - 5s 65ms/step - loss: 0.1651 - accuracy: 0.9308 - val_loss: 0.2052 - val_accuracy: 0.9300\n",
      "Epoch 4/70\n",
      "75/75 [==============================] - 5s 61ms/step - loss: 0.1388 - accuracy: 0.9450 - val_loss: 0.1290 - val_accuracy: 0.9512\n",
      "Epoch 5/70\n",
      "75/75 [==============================] - 5s 62ms/step - loss: 0.1120 - accuracy: 0.9596 - val_loss: 0.1152 - val_accuracy: 0.9525\n",
      "Epoch 6/70\n",
      "75/75 [==============================] - 5s 64ms/step - loss: 0.1063 - accuracy: 0.9629 - val_loss: 0.1516 - val_accuracy: 0.9462\n",
      "Epoch 7/70\n",
      "75/75 [==============================] - 5s 60ms/step - loss: 0.0927 - accuracy: 0.9629 - val_loss: 0.0997 - val_accuracy: 0.9712\n",
      "Epoch 8/70\n",
      "75/75 [==============================] - 4s 59ms/step - loss: 0.0567 - accuracy: 0.9779 - val_loss: 0.0921 - val_accuracy: 0.9700\n",
      "Epoch 9/70\n",
      "75/75 [==============================] - 5s 63ms/step - loss: 0.0505 - accuracy: 0.9804 - val_loss: 0.0855 - val_accuracy: 0.9725\n",
      "Epoch 10/70\n",
      "75/75 [==============================] - 5s 60ms/step - loss: 0.0322 - accuracy: 0.9875 - val_loss: 0.0946 - val_accuracy: 0.9650\n",
      "Epoch 11/70\n",
      "75/75 [==============================] - 5s 63ms/step - loss: 0.0241 - accuracy: 0.9917 - val_loss: 0.0739 - val_accuracy: 0.9762\n",
      "Epoch 12/70\n",
      "75/75 [==============================] - 5s 61ms/step - loss: 0.0331 - accuracy: 0.9871 - val_loss: 0.0821 - val_accuracy: 0.9737\n",
      "Epoch 13/70\n",
      "75/75 [==============================] - 5s 63ms/step - loss: 0.0113 - accuracy: 0.9963 - val_loss: 0.0761 - val_accuracy: 0.9762\n",
      "Epoch 14/70\n",
      "75/75 [==============================] - 5s 64ms/step - loss: 0.0174 - accuracy: 0.9942 - val_loss: 0.0821 - val_accuracy: 0.9725\n",
      "Epoch 15/70\n",
      "75/75 [==============================] - 5s 62ms/step - loss: 0.0085 - accuracy: 0.9983 - val_loss: 0.1285 - val_accuracy: 0.9600\n",
      "Epoch 16/70\n",
      "75/75 [==============================] - 5s 62ms/step - loss: 0.0097 - accuracy: 0.9971 - val_loss: 0.1358 - val_accuracy: 0.9663\n",
      "Epoch 17/70\n",
      "75/75 [==============================] - 4s 59ms/step - loss: 0.0044 - accuracy: 0.9992 - val_loss: 0.1594 - val_accuracy: 0.9762\n",
      "Epoch 18/70\n",
      "75/75 [==============================] - 4s 60ms/step - loss: 0.0213 - accuracy: 0.9921 - val_loss: 0.1307 - val_accuracy: 0.9675\n",
      "Epoch 19/70\n",
      "75/75 [==============================] - 4s 60ms/step - loss: 0.0388 - accuracy: 0.9871 - val_loss: 0.1236 - val_accuracy: 0.9600\n",
      "Epoch 20/70\n",
      "75/75 [==============================] - 5s 61ms/step - loss: 0.0815 - accuracy: 0.9725 - val_loss: 0.1109 - val_accuracy: 0.9712\n",
      "Epoch 21/70\n",
      "75/75 [==============================] - 5s 61ms/step - loss: 0.0221 - accuracy: 0.9933 - val_loss: 0.0789 - val_accuracy: 0.9762\n",
      "Epoch 22/70\n",
      "75/75 [==============================] - 5s 62ms/step - loss: 0.0134 - accuracy: 0.9971 - val_loss: 0.1015 - val_accuracy: 0.9700\n",
      "Epoch 23/70\n",
      "75/75 [==============================] - 5s 60ms/step - loss: 0.0100 - accuracy: 0.9983 - val_loss: 0.0732 - val_accuracy: 0.9787\n",
      "Epoch 24/70\n",
      "75/75 [==============================] - 5s 61ms/step - loss: 0.0059 - accuracy: 0.9979 - val_loss: 0.1332 - val_accuracy: 0.9725\n",
      "Epoch 25/70\n",
      "75/75 [==============================] - 5s 64ms/step - loss: 0.0122 - accuracy: 0.9958 - val_loss: 0.1344 - val_accuracy: 0.9737\n",
      "Epoch 26/70\n",
      "75/75 [==============================] - 5s 62ms/step - loss: 0.0078 - accuracy: 0.9967 - val_loss: 0.1091 - val_accuracy: 0.9750\n",
      "Epoch 27/70\n",
      "75/75 [==============================] - 4s 60ms/step - loss: 0.0241 - accuracy: 0.9917 - val_loss: 0.1446 - val_accuracy: 0.9650\n",
      "Epoch 28/70\n",
      "75/75 [==============================] - 4s 59ms/step - loss: 0.0029 - accuracy: 0.9992 - val_loss: 0.1067 - val_accuracy: 0.9762\n",
      "Epoch 29/70\n",
      "75/75 [==============================] - 4s 58ms/step - loss: 7.0611e-04 - accuracy: 1.0000 - val_loss: 0.0997 - val_accuracy: 0.9775\n",
      "Epoch 30/70\n",
      "75/75 [==============================] - 4s 57ms/step - loss: 3.4640e-04 - accuracy: 1.0000 - val_loss: 0.0995 - val_accuracy: 0.9800\n",
      "Epoch 31/70\n",
      "75/75 [==============================] - 5s 64ms/step - loss: 2.4222e-04 - accuracy: 1.0000 - val_loss: 0.1040 - val_accuracy: 0.9800\n",
      "Epoch 32/70\n",
      "75/75 [==============================] - 5s 62ms/step - loss: 1.7481e-04 - accuracy: 1.0000 - val_loss: 0.1072 - val_accuracy: 0.9800\n",
      "Epoch 33/70\n",
      "75/75 [==============================] - 5s 61ms/step - loss: 1.4287e-04 - accuracy: 1.0000 - val_loss: 0.1105 - val_accuracy: 0.9775\n",
      "Epoch 34/70\n",
      "75/75 [==============================] - 5s 67ms/step - loss: 1.1580e-04 - accuracy: 1.0000 - val_loss: 0.1120 - val_accuracy: 0.9800\n",
      "Epoch 35/70\n",
      "75/75 [==============================] - 4s 58ms/step - loss: 9.9527e-05 - accuracy: 1.0000 - val_loss: 0.1155 - val_accuracy: 0.9775\n",
      "Epoch 36/70\n",
      "75/75 [==============================] - 5s 63ms/step - loss: 7.8496e-05 - accuracy: 1.0000 - val_loss: 0.1187 - val_accuracy: 0.9775\n",
      "Epoch 37/70\n",
      "75/75 [==============================] - 5s 61ms/step - loss: 6.8738e-05 - accuracy: 1.0000 - val_loss: 0.1214 - val_accuracy: 0.9775\n",
      "Epoch 38/70\n",
      "75/75 [==============================] - 5s 61ms/step - loss: 5.7891e-05 - accuracy: 1.0000 - val_loss: 0.1242 - val_accuracy: 0.9775\n",
      "Epoch 39/70\n",
      "75/75 [==============================] - 4s 60ms/step - loss: 4.8816e-05 - accuracy: 1.0000 - val_loss: 0.1252 - val_accuracy: 0.9775\n",
      "Epoch 40/70\n",
      "75/75 [==============================] - 4s 60ms/step - loss: 4.2096e-05 - accuracy: 1.0000 - val_loss: 0.1283 - val_accuracy: 0.9775\n",
      "Epoch 41/70\n",
      "75/75 [==============================] - 5s 60ms/step - loss: 3.6125e-05 - accuracy: 1.0000 - val_loss: 0.1295 - val_accuracy: 0.9775\n",
      "Epoch 42/70\n",
      "75/75 [==============================] - 5s 61ms/step - loss: 3.3089e-05 - accuracy: 1.0000 - val_loss: 0.1317 - val_accuracy: 0.9775\n",
      "Epoch 43/70\n",
      "75/75 [==============================] - 5s 64ms/step - loss: 2.7956e-05 - accuracy: 1.0000 - val_loss: 0.1341 - val_accuracy: 0.9775\n",
      "Epoch 44/70\n",
      "75/75 [==============================] - 5s 61ms/step - loss: 2.4559e-05 - accuracy: 1.0000 - val_loss: 0.1367 - val_accuracy: 0.9775\n",
      "Epoch 45/70\n",
      "75/75 [==============================] - 5s 61ms/step - loss: 2.2342e-05 - accuracy: 1.0000 - val_loss: 0.1377 - val_accuracy: 0.9775\n",
      "Epoch 46/70\n",
      "75/75 [==============================] - 5s 64ms/step - loss: 1.9855e-05 - accuracy: 1.0000 - val_loss: 0.1400 - val_accuracy: 0.9762\n",
      "Epoch 47/70\n",
      "75/75 [==============================] - 5s 63ms/step - loss: 1.8074e-05 - accuracy: 1.0000 - val_loss: 0.1404 - val_accuracy: 0.9775\n",
      "Epoch 48/70\n",
      "75/75 [==============================] - 5s 63ms/step - loss: 1.6277e-05 - accuracy: 1.0000 - val_loss: 0.1418 - val_accuracy: 0.9775\n",
      "Epoch 49/70\n",
      "75/75 [==============================] - 5s 63ms/step - loss: 1.5045e-05 - accuracy: 1.0000 - val_loss: 0.1422 - val_accuracy: 0.9775\n",
      "Epoch 50/70\n",
      "75/75 [==============================] - 5s 61ms/step - loss: 1.3493e-05 - accuracy: 1.0000 - val_loss: 0.1453 - val_accuracy: 0.9762\n",
      "Epoch 51/70\n",
      "75/75 [==============================] - 5s 61ms/step - loss: 1.2359e-05 - accuracy: 1.0000 - val_loss: 0.1456 - val_accuracy: 0.9775\n",
      "Epoch 52/70\n",
      "75/75 [==============================] - 5s 63ms/step - loss: 1.1059e-05 - accuracy: 1.0000 - val_loss: 0.1466 - val_accuracy: 0.9775\n",
      "Epoch 53/70\n",
      "75/75 [==============================] - 5s 62ms/step - loss: 1.0403e-05 - accuracy: 1.0000 - val_loss: 0.1488 - val_accuracy: 0.9762\n",
      "Epoch 54/70\n",
      "75/75 [==============================] - 5s 64ms/step - loss: 9.8137e-06 - accuracy: 1.0000 - val_loss: 0.1492 - val_accuracy: 0.9762\n",
      "Epoch 55/70\n",
      "75/75 [==============================] - 5s 61ms/step - loss: 9.0045e-06 - accuracy: 1.0000 - val_loss: 0.1496 - val_accuracy: 0.9762\n",
      "Epoch 56/70\n",
      "75/75 [==============================] - 5s 64ms/step - loss: 8.3715e-06 - accuracy: 1.0000 - val_loss: 0.1507 - val_accuracy: 0.9775\n",
      "Epoch 57/70\n",
      "75/75 [==============================] - 5s 63ms/step - loss: 7.8391e-06 - accuracy: 1.0000 - val_loss: 0.1521 - val_accuracy: 0.9762\n",
      "Epoch 58/70\n"
     ]
    },
    {
     "name": "stdout",
     "output_type": "stream",
     "text": [
      "75/75 [==============================] - 4s 54ms/step - loss: 7.4232e-06 - accuracy: 1.0000 - val_loss: 0.1526 - val_accuracy: 0.9762\n",
      "Epoch 59/70\n",
      "75/75 [==============================] - 4s 54ms/step - loss: 7.0963e-06 - accuracy: 1.0000 - val_loss: 0.1549 - val_accuracy: 0.9762\n",
      "Epoch 60/70\n",
      "75/75 [==============================] - 4s 54ms/step - loss: 6.5895e-06 - accuracy: 1.0000 - val_loss: 0.1536 - val_accuracy: 0.9762\n",
      "Epoch 61/70\n",
      "75/75 [==============================] - 4s 54ms/step - loss: 6.1038e-06 - accuracy: 1.0000 - val_loss: 0.1556 - val_accuracy: 0.9762\n",
      "Epoch 62/70\n",
      "75/75 [==============================] - 4s 54ms/step - loss: 5.8930e-06 - accuracy: 1.0000 - val_loss: 0.1570 - val_accuracy: 0.9762\n",
      "Epoch 63/70\n",
      "75/75 [==============================] - 4s 54ms/step - loss: 5.3994e-06 - accuracy: 1.0000 - val_loss: 0.1574 - val_accuracy: 0.9762\n",
      "Epoch 64/70\n",
      "75/75 [==============================] - 4s 54ms/step - loss: 5.0860e-06 - accuracy: 1.0000 - val_loss: 0.1593 - val_accuracy: 0.9762\n",
      "Epoch 65/70\n",
      "75/75 [==============================] - 4s 56ms/step - loss: 4.9126e-06 - accuracy: 1.0000 - val_loss: 0.1599 - val_accuracy: 0.9762\n",
      "Epoch 66/70\n",
      "75/75 [==============================] - 4s 54ms/step - loss: 4.6981e-06 - accuracy: 1.0000 - val_loss: 0.1592 - val_accuracy: 0.9762\n",
      "Epoch 67/70\n",
      "75/75 [==============================] - 4s 54ms/step - loss: 4.4957e-06 - accuracy: 1.0000 - val_loss: 0.1595 - val_accuracy: 0.9762\n",
      "Epoch 68/70\n",
      "75/75 [==============================] - 4s 54ms/step - loss: 4.1157e-06 - accuracy: 1.0000 - val_loss: 0.1603 - val_accuracy: 0.9762\n",
      "Epoch 69/70\n",
      "75/75 [==============================] - 4s 54ms/step - loss: 4.0338e-06 - accuracy: 1.0000 - val_loss: 0.1611 - val_accuracy: 0.9762\n",
      "Epoch 70/70\n",
      "75/75 [==============================] - 4s 54ms/step - loss: 3.8216e-06 - accuracy: 1.0000 - val_loss: 0.1614 - val_accuracy: 0.9775\n"
     ]
    }
   ],
   "source": [
    "# Training the model\n",
    "\n",
    "history = model.fit(X_train, y_train, epochs=20, validation_data=(X_val, y_val))"
   ]
  },
  {
   "cell_type": "code",
   "execution_count": 13,
   "id": "36b2814b",
   "metadata": {},
   "outputs": [
    {
     "name": "stdout",
     "output_type": "stream",
     "text": [
      "25/25 [==============================] - 0s 14ms/step - loss: 0.1661 - accuracy: 0.9862\n"
     ]
    },
    {
     "data": {
      "text/plain": [
       "[0.16610026359558105, 0.9862499833106995]"
      ]
     },
     "execution_count": 13,
     "metadata": {},
     "output_type": "execute_result"
    }
   ],
   "source": [
    "# Finding our final accuracy on the test set\n",
    "\n",
    "model.evaluate(X_test, y_test)"
   ]
  },
  {
   "cell_type": "code",
   "execution_count": 14,
   "id": "ce6a7882",
   "metadata": {},
   "outputs": [
    {
     "data": {
      "image/png": "[encoded data removed]",
      "text/plain": [
       "<Figure size 432x288 with 1 Axes>"
      ]
     },
     "metadata": {
      "needs_background": "light"
     },
     "output_type": "display_data"
    }
   ],
   "source": [
    "# Plotting the loss and accuracy\n",
    "\n",
    "pd.DataFrame(history.history).plot();"
   ]
  },
  {
   "cell_type": "code",
   "execution_count": null,
   "id": "7070ab2c",
   "metadata": {},
   "outputs": [],
   "source": []
  }
 ],
 "metadata": {
  "kernelspec": {
   "display_name": "Python 3 (ipykernel)",
   "language": "python",
   "name": "python3"
  },
  "language_info": {
   "codemirror_mode": {
    "name": "ipython",
    "version": 3
   },
   "file_extension": ".py",
   "mimetype": "text/x-python",
   "name": "python",
   "nbconvert_exporter": "python",
   "pygments_lexer": "ipython3",
   "version": "3.8.12"
  }
 },
 "nbformat": 4,
 "nbformat_minor": 5
}
